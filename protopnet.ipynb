{
 "cells": [
  {
   "cell_type": "code",
   "execution_count": null,
   "metadata": {},
   "outputs": [
    {
     "name": "stdout",
     "output_type": "stream",
     "text": [
      "Found 1517 files belonging to 2 classes.\n"
     ]
    }
   ],
   "source": [
    "import tensorflow as tf\n",
    "import os\n",
    "import shutil\n",
    "\n",
    "# Step 2: Load and resize images from the 'flowers' directory\n",
    "data = tf.keras.preprocessing.image_dataset_from_directory(\n",
    "    'flowers',\n",
    "    image_size=(128, 128),   # Resize images to 128x128\n",
    "    batch_size=32,\n",
    "    label_mode='int'         # Automatically labels based on folder structure\n",
    ")\n",
    "\n",
    "# Create directories for storing processed images\n",
    "output_dir_train = './datasets/flowers_cropped/train_cropped/'\n",
    "output_dir_test = './datasets/flowers_cropped/test_cropped/'\n",
    "\n",
    "# Ensure the output directories exist\n",
    "os.makedirs(output_dir_train, exist_ok=True)\n",
    "os.makedirs(output_dir_test, exist_ok=True)\n",
    "\n",
    "# Step 3: Split into training and testing sets\n",
    "# Here, you can use an 80-20 split\n",
    "train_size = int(0.8 * len(data))\n",
    "train_data = data.take(train_size)\n",
    "test_data = data.skip(train_size)\n",
    "\n",
    "# Helper function to save images and their labels\n",
    "def save_images(dataset, output_dir):\n",
    "    for batch, labels in dataset:\n",
    "        for i in range(batch.shape[0]):\n",
    "            img = batch[i].numpy().astype(\"uint8\")\n",
    "            label = labels[i].numpy()\n",
    "            label_dir = os.path.join(output_dir, str(label))\n",
    "            os.makedirs(label_dir, exist_ok=True)\n",
    "            file_path = os.path.join(label_dir, f'image_{i}.jpg')\n",
    "            tf.keras.preprocessing.image.save_img(file_path, img)\n",
    "\n",
    "# Save training and test images\n",
    "save_images(train_data, output_dir_train)\n",
    "save_images(test_data, output_dir_test)\n"
   ]
  }
 ],
 "metadata": {
  "language_info": {
   "name": "python"
  }
 },
 "nbformat": 4,
 "nbformat_minor": 2
}
